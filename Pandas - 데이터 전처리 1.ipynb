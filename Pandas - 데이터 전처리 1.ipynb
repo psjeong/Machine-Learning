{
 "cells": [
  {
   "cell_type": "markdown",
   "id": "137c4537",
   "metadata": {},
   "source": [
    "# Pandas"
   ]
  },
  {
   "cell_type": "markdown",
   "id": "599fb55e",
   "metadata": {},
   "source": [
    " **판다스(pandas)란 무엇인가?**\n",
    "```\n",
    "판다스는 데이터 분석을 위한 핵심라이브러리로써 고유한 자료구조인 Series와 DataFrame을 활용하여 \n",
    "빅데이터 분석에 엄청난 수준의 퍼포먼스를 발휘한다.\n",
    "Series와 DataFrame는 numpy(선형대수)의 1차원 2차원 array와 유사하다.\n",
    "간단한 차이점이라고 하면, array에 index가 있는 형태라고 볼 수 있다.\n",
    "```"
   ]
  },
  {
   "cell_type": "code",
   "execution_count": 1,
   "id": "b90f88b1",
   "metadata": {},
   "outputs": [],
   "source": [
    "import os\n",
    "import pandas as pd"
   ]
  },
  {
   "cell_type": "code",
   "execution_count": 2,
   "id": "d4e67d1c",
   "metadata": {},
   "outputs": [
    {
     "data": {
      "text/plain": [
       "['NanumBarunGothic.ttf',\n",
       " 'Naver_opinion.txt',\n",
       " 'new_friend.csv',\n",
       " 'new_friend_index_true.csv',\n",
       " 'test.csv',\n",
       " 'test_csv.txt',\n",
       " 'train.csv',\n",
       " 'train_data.csv',\n",
       " 'wc_result.png',\n",
       " 'wc_result1.png']"
      ]
     },
     "execution_count": 2,
     "metadata": {},
     "output_type": "execute_result"
    }
   ],
   "source": [
    "os.listdir('./ML_data')  # . : 현재 어떤 파일이 존재하는지"
   ]
  },
  {
   "cell_type": "code",
   "execution_count": 3,
   "id": "29073d31",
   "metadata": {},
   "outputs": [],
   "source": [
    "# 데이터 폴더 src 변수 할당\n",
    "base_src = './ML_data'\n",
    "# friend.csv 파일 src 변수 할당\n",
    "friend_src = base_src + '/new_friend.csv'"
   ]
  },
  {
   "cell_type": "code",
   "execution_count": 4,
   "id": "d3a4b0fd",
   "metadata": {},
   "outputs": [],
   "source": [
    "# pandas의 read_csv => 데이터 불러오기\n",
    "df= pd.read_csv(friend_src, encoding = 'utf-8')\n",
    "\n",
    "# 파일이 읽히지 않고 에러 발생경우\n",
    "# engine = 'python'를 추가해주면 읽어짐"
   ]
  },
  {
   "cell_type": "code",
   "execution_count": 5,
   "id": "01d3609a",
   "metadata": {},
   "outputs": [
    {
     "data": {
      "text/html": [
       "<div>\n",
       "<style scoped>\n",
       "    .dataframe tbody tr th:only-of-type {\n",
       "        vertical-align: middle;\n",
       "    }\n",
       "\n",
       "    .dataframe tbody tr th {\n",
       "        vertical-align: top;\n",
       "    }\n",
       "\n",
       "    .dataframe thead th {\n",
       "        text-align: right;\n",
       "    }\n",
       "</style>\n",
       "<table border=\"1\" class=\"dataframe\">\n",
       "  <thead>\n",
       "    <tr style=\"text-align: right;\">\n",
       "      <th></th>\n",
       "      <th>name</th>\n",
       "      <th>age</th>\n",
       "      <th>job</th>\n",
       "    </tr>\n",
       "  </thead>\n",
       "  <tbody>\n",
       "    <tr>\n",
       "      <th>0</th>\n",
       "      <td>John</td>\n",
       "      <td>20</td>\n",
       "      <td>student</td>\n",
       "    </tr>\n",
       "    <tr>\n",
       "      <th>1</th>\n",
       "      <td>Jenny</td>\n",
       "      <td>30</td>\n",
       "      <td>developer</td>\n",
       "    </tr>\n",
       "    <tr>\n",
       "      <th>2</th>\n",
       "      <td>Nate</td>\n",
       "      <td>30</td>\n",
       "      <td>teacher</td>\n",
       "    </tr>\n",
       "    <tr>\n",
       "      <th>3</th>\n",
       "      <td>Julia</td>\n",
       "      <td>40</td>\n",
       "      <td>dentist</td>\n",
       "    </tr>\n",
       "    <tr>\n",
       "      <th>4</th>\n",
       "      <td>Brian</td>\n",
       "      <td>45</td>\n",
       "      <td>manager</td>\n",
       "    </tr>\n",
       "  </tbody>\n",
       "</table>\n",
       "</div>"
      ],
      "text/plain": [
       "    name  age        job\n",
       "0   John   20    student\n",
       "1  Jenny   30  developer\n",
       "2   Nate   30    teacher\n",
       "3  Julia   40    dentist\n",
       "4  Brian   45    manager"
      ]
     },
     "execution_count": 5,
     "metadata": {},
     "output_type": "execute_result"
    }
   ],
   "source": [
    "# head() 데이터 읽어보기\n",
    "df.head()  # default 값이 5로 지정되어있어 입력하지 않으면 5개 데이터를 볼 수 있다."
   ]
  },
  {
   "cell_type": "code",
   "execution_count": 6,
   "id": "19d2dba3",
   "metadata": {},
   "outputs": [],
   "source": [
    "new_friend_src = base_src + \"/new_friend.csv\""
   ]
  },
  {
   "cell_type": "code",
   "execution_count": 9,
   "id": "7e95dd15",
   "metadata": {},
   "outputs": [],
   "source": [
    "# pandas의 to_csv => 데이터 프레임 저장\n",
    "# index = True or False => 데이터 저장시 새로운 인덱스를 생성할지 말지\n",
    "# encoding => 데이터 인코딩 방식 설정\n",
    "\n",
    "df.to_csv(new_friend_src, index=False, encoding ='utf-8')"
   ]
  },
  {
   "cell_type": "code",
   "execution_count": 10,
   "id": "817781b7",
   "metadata": {},
   "outputs": [
    {
     "data": {
      "text/plain": [
       "['NanumBarunGothic.ttf',\n",
       " 'Naver_opinion.txt',\n",
       " 'new_friend.csv',\n",
       " 'new_friend_index_true.csv',\n",
       " 'test.csv',\n",
       " 'test_csv.txt',\n",
       " 'train.csv',\n",
       " 'train_data.csv',\n",
       " 'wc_result.png',\n",
       " 'wc_result1.png']"
      ]
     },
     "execution_count": 10,
     "metadata": {},
     "output_type": "execute_result"
    }
   ],
   "source": [
    "os.listdir(base_src)"
   ]
  },
  {
   "cell_type": "code",
   "execution_count": null,
   "id": "a3caf91a",
   "metadata": {},
   "outputs": [],
   "source": []
  }
 ],
 "metadata": {
  "kernelspec": {
   "display_name": "Python 3 (ipykernel)",
   "language": "python",
   "name": "python3"
  },
  "language_info": {
   "codemirror_mode": {
    "name": "ipython",
    "version": 3
   },
   "file_extension": ".py",
   "mimetype": "text/x-python",
   "name": "python",
   "nbconvert_exporter": "python",
   "pygments_lexer": "ipython3",
   "version": "3.9.7"
  }
 },
 "nbformat": 4,
 "nbformat_minor": 5
}
